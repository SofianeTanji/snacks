{
    "cells": [
        {
            "cell_type": "code",
            "execution_count": 13,
            "metadata": {},
            "outputs": [],
            "source": [
                "\n",
                "from svm import Snacks, MyEstimator\n",
                "from sklearn.model_selection import cross_val_score\n",
                "import seaborn as sns\n",
                "import utils\n",
                "import time",
            ],
        },
        {
            "cell_type": "code",
            "execution_count": 14,
            "metadata": {},
            "outputs": [],
            "source": [
                "\n",
                "SEABORN_STYLE = {\n",
                '    "figure.facecolor": "white",\n',
                '    "axes.labelcolor": ".15",\n',
                '    "xtick.direction": "out",\n',
                '    "ytick.direction": "out",\n',
                '    "xtick.color": ".15",\n',
                '    "ytick.color": ".15",\n',
                '    "axes.axisbelow": True,\n',
                '    "grid.linestyle": "-",\n',
                '    "text.color": ".15",\n',
                '    "font.family": ["sans-serif"],\n',
                '    "font.sans-serif": ["Helvetica", "DejaVu Sans"],\n',
                '    "lines.solid_capstyle": "round",\n',
                '    "patch.edgecolor": "w",\n',
                '    "patch.force_edgecolor": True,\n',
                '    "image.cmap": "rocket",\n',
                '    "xtick.top": False,\n',
                '    "ytick.right": False,\n',
                '    "axes.grid": True,\n',
                '    "axes.facecolor": "white",\n',
                '    "axes.edgecolor": "white",\n',
                '    "grid.color": "white",\n',
                '    "axes.spines.left": True,\n',
                '    "axes.spines.bottom": True,\n',
                '    "axes.spines.right": True,\n',
                '    "axes.spines.top": True,\n',
                '    "xtick.bottom": False,\n',
                '    "ytick.left": False,\n',
                "}\n",
                'sns.set_theme(style=SEABORN_STYLE, palette="colorblind")\n',
            ],
        },
        {
            "cell_type": "code",
            "execution_count": 15,
            "metadata": {},
            "outputs": [],
            "source": ['X, Y, Xtr, Xts, Ytr, Yts = utils.dataloader("SUSY", 0.8)\n'],
        },
        {
            "cell_type": "code",
            "execution_count": 28,
            "metadata": {},
            "outputs": [],
            "source": [
                "Xtr, Ytr, Xts, Yts = utils.kernel_embedding(Xtr, Ytr, Xts, Yts, 600, gamma=1e-1) #300 -> 13s et 400 -> 37s et 600 -> 51s avant de crash mdr"
            ],
        },
        {
            "cell_type": "code",
            "execution_count": 18,
            "metadata": {},
            "outputs": [
                {
                    "name": "stdout",
                    "output_type": "stream",
                    "text": ["in 0.34s, C-err is 20.43%\n"],
                }
            ],
            "source": [
                "model = Snacks(35000, 5e-8, 1.)\n",
                "ts = time.perf_counter()\n",
                "model.fit(Xtr, Ytr)\n",
                "te = time.perf_counter()\n",
                "score = model.score(Xts, Yts)\n",
                'print(f"in {(te - ts):.2f}s, C-err is {100 - score * 100:.2f}%")',
            ],
        },
        {
            "cell_type": "code",
            "execution_count": 26,
            "metadata": {},
            "outputs": [
                {
                    "name": "stdout",
                    "output_type": "stream",
                    "text": [
                        "C-err is 20.399 % with a standard deviation of 0.059 %\n"
                    ],
                }
            ],
            "source": [
                "scores = cross_val_score(MyEstimator(model), Xts, Yts)\n",
                'print(f"C-err is {scores.mean():.3f} % with a standard deviation of {scores.std():.3f} %")',
            ],
        },
    ],
    "metadata": {
        "interpreter": {
            "hash": "d4506dcfe8a1cb1985505f6df0f9ad3eb1b024c0303e0c7385d172e3774bf3d5"
        },
        "kernelspec": {
            "display_name": "Python 3.10.0",
            "language": "python",
            "name": "python3",
        },
        "language_info": {
            "codemirror_mode": {"name": "ipython", "version": 3},
            "file_extension": ".py",
            "mimetype": "text/x-python",
            "name": "python",
            "nbconvert_exporter": "python",
            "pygments_lexer": "ipython3",
            "version": "3.10.0",
        },
        "orig_nbformat": 4,
    },
    "nbformat": 4,
    "nbformat_minor": 2,
}

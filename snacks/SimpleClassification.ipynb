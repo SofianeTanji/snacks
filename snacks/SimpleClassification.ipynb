{
 "cells": [
  {
   "cell_type": "code",
   "execution_count": 5,
   "metadata": {},
   "outputs": [],
   "source": [
    "from svm import Snacks\n",
    "import utils\n",
    "import time"
   ]
  },
  {
   "cell_type": "code",
   "execution_count": 6,
   "metadata": {},
   "outputs": [],
   "source": [
    "Xtr, Xts, Ytr, Yts = utils.dataloader(\"a9a\", 0.8)"
   ]
  },
  {
   "cell_type": "code",
   "execution_count": 7,
   "metadata": {},
   "outputs": [],
   "source": [
    "Xtr, Ytr, Xts, Yts = utils.kernel_embedding(Xtr, Ytr, Xts, Yts, 1120, gamma=1e-1)"
   ]
  },
  {
   "cell_type": "code",
   "execution_count": 9,
   "metadata": {},
   "outputs": [
    {
     "name": "stdout",
     "output_type": "stream",
     "text": [
      "in 0.47s, C-err is 15.20%\n"
     ]
    }
   ],
   "source": [
    "model = Snacks(nb_iterations=45000, lambda_reg=1e-5, stepsize=1.0)\n",
    "ts = time.time()\n",
    "model.fit(Xtr, Ytr)\n",
    "te = time.time()\n",
    "score = model.score(Xts, Yts)\n",
    "print(f\"in {(te - ts):.2f}s, C-err is {100 - score * 100:.2f}%\")"
   ]
  },
  {
   "cell_type": "code",
   "execution_count": null,
   "metadata": {},
   "outputs": [],
   "source": [
    "import matplotlib.pyplot as plt\n",
    "\n",
    "plt.plot(m_arr, s_arr)"
   ]
  }
 ],
 "metadata": {
  "interpreter": {
   "hash": "d4506dcfe8a1cb1985505f6df0f9ad3eb1b024c0303e0c7385d172e3774bf3d5"
  },
  "kernelspec": {
   "display_name": "Python 3.10.0",
   "language": "python",
   "name": "python3"
  },
  "language_info": {
   "codemirror_mode": {
    "name": "ipython",
    "version": 3
   },
   "file_extension": ".py",
   "mimetype": "text/x-python",
   "name": "python",
   "nbconvert_exporter": "python",
   "pygments_lexer": "ipython3",
   "version": "3.10.0"
  },
  "orig_nbformat": 4
 },
 "nbformat": 4,
 "nbformat_minor": 2
}

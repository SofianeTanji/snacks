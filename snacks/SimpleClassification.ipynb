{
 "cells": [
  {
   "cell_type": "code",
   "execution_count": 6,
   "metadata": {},
   "outputs": [],
   "source": [
    "from svm import Snacks\n",
    "import utils\n",
    "import time"
   ]
  },
  {
   "cell_type": "code",
   "execution_count": 7,
   "metadata": {},
   "outputs": [],
   "source": [
    "Xtr, Xts, Ytr, Yts = utils.dataloader('a9a', 0.7)"
   ]
  },
  {
   "cell_type": "code",
   "execution_count": 8,
   "metadata": {},
   "outputs": [],
   "source": [
    "Xtr, Ytr, Xts, Yts = utils.kernel_embedding(Xtr, Ytr, Xts, Yts, False, 1600, gamma = 1e-1)"
   ]
  },
  {
   "cell_type": "code",
   "execution_count": 10,
   "metadata": {},
   "outputs": [
    {
     "name": "stdout",
     "output_type": "stream",
     "text": [
      "\n",
      "*** PROFILER RESULTS ***\n",
      "run (/home/sofiane/Documents/work/snacks/snacks/optimizer.py:45)\n",
      "function called 1 times\n",
      "\n",
      "         4 function calls in 0.418 seconds\n",
      "\n",
      "   Ordered by: cumulative time, internal time, call count\n",
      "\n",
      "   ncalls  tottime  percall  cumtime  percall filename:lineno(function)\n",
      "        1    0.000    0.000    0.418    0.418 optimizer.py:45(run)\n",
      "        1    0.418    0.418    0.418    0.418 optimizer.py:9(_run)\n",
      "        1    0.000    0.000    0.000    0.000 serialize.py:29(_numba_unpickle)\n",
      "        1    0.000    0.000    0.000    0.000 {method 'disable' of '_lsprof.Profiler' objects}\n",
      "        0    0.000             0.000          profile:0(profiler)\n",
      "\n",
      "\n",
      "in 0.42s, C-err is 15.21%\n"
     ]
    }
   ],
   "source": [
    "model = Snacks(nb_iterations = 45000, lambda_reg = 1e-5, stepsize = 1.)\n",
    "ts = time.time()\n",
    "model.fit(Xtr, Ytr)\n",
    "te = time.time()\n",
    "score = model.score(Xts, Yts)\n",
    "print(f\"in {(te - ts):.2f}s, C-err is {100 - score * 100:.2f}%\")"
   ]
  }
 ],
 "metadata": {
  "interpreter": {
   "hash": "d4506dcfe8a1cb1985505f6df0f9ad3eb1b024c0303e0c7385d172e3774bf3d5"
  },
  "kernelspec": {
   "display_name": "Python 3.10.0",
   "language": "python",
   "name": "python3"
  },
  "language_info": {
   "codemirror_mode": {
    "name": "ipython",
    "version": 3
   },
   "file_extension": ".py",
   "mimetype": "text/x-python",
   "name": "python",
   "nbconvert_exporter": "python",
   "pygments_lexer": "ipython3",
   "version": "3.10.0"
  },
  "orig_nbformat": 4
 },
 "nbformat": 4,
 "nbformat_minor": 2
}

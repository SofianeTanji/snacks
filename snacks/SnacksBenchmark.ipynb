{
 "cells": [
  {
   "cell_type": "code",
   "execution_count": null,
   "metadata": {},
   "outputs": [],
   "source": [
    "import numpy as np\n",
    "import seaborn as sns\n",
    "from benchmark_functions import cerr_vs_lmbd, cerr_vs_m, cerr_m_lmbd, obj_vs_it"
   ]
  },
  {
   "cell_type": "markdown",
   "metadata": {},
   "source": [
    "## Cerr vs M, Lmbd"
   ]
  },
  {
   "cell_type": "markdown",
   "metadata": {},
   "source": [
    "### Cerr vs M"
   ]
  },
  {
   "cell_type": "code",
   "execution_count": null,
   "metadata": {},
   "outputs": [],
   "source": [
    "Cerrs, Ms = cerr_vs_m(\"a9a\", 0.6, 1e-1, 30000, 6, 1e-6, 1.0, 100, 3500, 40)"
   ]
  },
  {
   "cell_type": "code",
   "execution_count": null,
   "metadata": {},
   "outputs": [],
   "source": [
    "sns.set_theme()\n",
    "ax = sns.lineplot(x=Cerrs, y=Ms, legend=\"auto\")\n",
    "ax.set(xlabel=\"m\", ylabel=\"C-err\", title=\"Dataset = a9a\")\n",
    "fig = ax.get_figure()\n",
    "fig.savefig(\"out.png\")"
   ]
  },
  {
   "cell_type": "markdown",
   "metadata": {},
   "source": [
    "### Cerr vs Lambda"
   ]
  },
  {
   "cell_type": "code",
   "execution_count": null,
   "metadata": {},
   "outputs": [],
   "source": [
    "Cerrs, Lmbds = cerr_vs_lmbd(\"a9a\", 0.6, 1e-1, 30000, 6, 1000, 1.0, 0, -8, 300)"
   ]
  },
  {
   "cell_type": "code",
   "execution_count": null,
   "metadata": {},
   "outputs": [],
   "source": [
    "sns.set_theme()\n",
    "ax = sns.lineplot(x=Lmbds, y=Cerrs, legend=\"auto\")\n",
    "ax.set_xscale(\"log\")\n",
    "ax.set(xlabel=\"Regularization parameter\", ylabel=\"C-err\", title=\"Dataset = a9a\")\n",
    "fig = ax.get_figure()\n",
    "fig.savefig(\"out.png\")"
   ]
  },
  {
   "cell_type": "markdown",
   "metadata": {},
   "source": [
    "### Heatmap"
   ]
  },
  {
   "cell_type": "code",
   "execution_count": null,
   "metadata": {},
   "outputs": [],
   "source": [
    "arrm = np.array([10, 20, 50, 100, 150, 200, 300, 500, 750, 1000, 1500, 2000])\n",
    "arrl = np.array(\n",
    "    [1e-9, 5e-9, 1e-8, 5e-8, 1e-7, 5e-7, 1e-6, 1e-5, 5e-5, 1e-4, 5e-4, 1e-3]\n",
    ")\n",
    "cerr, arrm, arrl = cerr_m_lmbd(\"a9a\", 0.6, 1e-1, 30000, 3, 1.0, arrm, arrl)"
   ]
  },
  {
   "cell_type": "code",
   "execution_count": null,
   "metadata": {},
   "outputs": [],
   "source": [
    "sns.set_theme()\n",
    "ax = sns.heatmap(cerr.T, xticklabels=arrm, yticklabels=arrl, cmap=\"PiYG\")\n",
    "ax.set(xlabel=\"m\", ylabel=\"Regularization parameter\", title=\"Dataset = a9a\")\n",
    "fig = ax.get_figure()\n",
    "fig.savefig(\"out.png\")"
   ]
  },
  {
   "cell_type": "markdown",
   "metadata": {},
   "source": [
    "## Obj vs It"
   ]
  },
  {
   "cell_type": "code",
   "execution_count": null,
   "metadata": {},
   "outputs": [],
   "source": [
    "objs = obj_vs_it(\"a9a\", 0.8, 1e-1, 800, 1e-9, 1.0, 8000)\n",
    "it, obj_vals = [x[0] for x in objs], [x[1] for x in objs]"
   ]
  },
  {
   "cell_type": "code",
   "execution_count": null,
   "metadata": {},
   "outputs": [],
   "source": [
    "sns.set_theme()\n",
    "ax = sns.lineplot(x=it, y=obj_vals, legend=\"auto\")\n",
    "ax.set(xlabel=\"iterations\", ylabel=\"Objective function value\", title=\"Dataset = a9a\")\n",
    "fig = ax.get_figure()\n",
    "fig.savefig(\"out.png\")"
   ]
  }
 ],
 "metadata": {
  "interpreter": {
   "hash": "d4506dcfe8a1cb1985505f6df0f9ad3eb1b024c0303e0c7385d172e3774bf3d5"
  },
  "kernelspec": {
   "display_name": "Python 3.10.0",
   "language": "python",
   "name": "python3"
  },
  "language_info": {
   "codemirror_mode": {
    "name": "ipython",
    "version": 3
   },
   "file_extension": ".py",
   "mimetype": "text/x-python",
   "name": "python",
   "nbconvert_exporter": "python",
   "pygments_lexer": "ipython3",
   "version": "3.10.0"
  },
  "orig_nbformat": 4
 },
 "nbformat": 4,
 "nbformat_minor": 2
}

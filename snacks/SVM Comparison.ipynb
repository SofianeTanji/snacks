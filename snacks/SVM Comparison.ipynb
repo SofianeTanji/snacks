{
 "cells": [
  {
   "cell_type": "markdown",
   "metadata": {},
   "source": [
    "# SVM Comparison\n",
    "This notebook runs a comparison between ThunderSVM, LibSVM, Pegasos, ~~liquidSVM~~ and Snacks on 3 binary classification datasets:\n",
    " - a9a\n",
    " - SUSY\n",
    " - HIGGS"
   ]
  },
  {
   "cell_type": "code",
   "execution_count": null,
   "metadata": {},
   "outputs": [],
   "source": [
    "%load_ext autoreload\n",
    "%autoreload 2"
   ]
  },
  {
   "cell_type": "code",
   "execution_count": null,
   "metadata": {},
   "outputs": [],
   "source": [
    "import utils\n",
    "import time\n",
    "import os\n",
    "import sys\n",
    "\n",
    "os.environ[\"CUDA_VISIBLE_DEVICES\"] = \"0\"\n",
    "sys.path.append(\"../\")"
   ]
  },
  {
   "cell_type": "code",
   "execution_count": null,
   "metadata": {},
   "outputs": [],
   "source": [
    "# Import all SVM solvers, data embedding functions and time method\n",
    "from svm import Snacks\n",
    "from pegasos import PegasosSVMClassifier\n",
    "from sklearn import svm\n",
    "from thundersvm import SVC"
   ]
  },
  {
   "cell_type": "markdown",
   "metadata": {},
   "source": [
    "#### Utility functions for benchmarking"
   ]
  },
  {
   "cell_type": "code",
   "execution_count": null,
   "metadata": {},
   "outputs": [],
   "source": [
    "def prepare_data(data, num_centers, gamma, full):\n",
    "    if data == \"a9a\":\n",
    "        Xtr, Xts, Ytr, Yts = utils.dataloader(\"../datasets/a9a\", 0.7)\n",
    "    elif data == \"SUSY\":\n",
    "        Xtr, Xts, Ytr, Yts = utils.dataloader(\"../datasets/SUSY\", 0.7)\n",
    "    elif data == \"HIGGS\":\n",
    "        Xtr, Xts, Ytr, Yts = utils.dataloader(\"../datasets/HIGGS\", 0.7)\n",
    "    else:\n",
    "        print(\n",
    "            f\"You asked for dataset {data} while Snacks only support a9a, SUSY and HIGGS\"\n",
    "        )\n",
    "\n",
    "    Xtr, Ytr, Xts, Yts = utils.kernel_embedding(\n",
    "        Xtr, Ytr, Xts, Yts, num_centers, full, gamma=gamma\n",
    "    )\n",
    "\n",
    "    return Xtr, Ytr, Xts, Yts"
   ]
  },
  {
   "cell_type": "code",
   "execution_count": null,
   "metadata": {},
   "outputs": [],
   "source": [
    "def run_snacks(Xtr, Ytr, Xts, Yts, nb_iterations, lambda_reg, stepsize):\n",
    "    print(\"Snacks' performance : \")\n",
    "    model = Snacks(\n",
    "        nb_iterations=nb_iterations, lambda_reg=lambda_reg, stepsize=stepsize\n",
    "    )\n",
    "    ts = time.time()\n",
    "    model.fit(Xtr, Ytr)\n",
    "    te = time.time()\n",
    "    score = model.score(Xts, Yts)\n",
    "    print(f\"in {(te - ts):.2f}s, C-err is {100 - score * 100:.2f}%\")\n",
    "    tr_score = model.score(Xtr, Ytr)\n",
    "    print(f\"also, train error is {100 - tr_score * 100:.2f}%\")\n",
    "    t_fit, score = te - ts, 1 - score\n",
    "    return t_fit, score\n",
    "\n",
    "\n",
    "def run_sklearn(Xtr, Ytr, Xts, Yts, lambda_reg):\n",
    "    print(\"SKLearn's performance : \")\n",
    "    C = 1 / (2 * Xtr.shape[0] * lambda_reg)\n",
    "    model = svm.LinearSVC(loss=\"hinge\", C=C)\n",
    "    ts = time.time()\n",
    "    model.fit(Xtr, Ytr)\n",
    "    te = time.time()\n",
    "    score = model.score(Xts, Yts)\n",
    "    print(f\"in {(te - ts):.2f}s, C-err is {100 - score * 100:.2f}%\")\n",
    "    t_fit, score = te - ts, 1 - score\n",
    "    return t_fit, score\n",
    "\n",
    "def run_thundersvm(Xtr, Ytr, Xts, Yts, lambda_reg):\n",
    "    print(\"ThunderSVM's performance : \")\n",
    "    C = 1 / (2 * Xtr.shape[0] * lambda_reg)\n",
    "    model = SVC(C=C)\n",
    "    ts = time.time()\n",
    "    model.fit(Xtr, Ytr)\n",
    "    te = time.time()\n",
    "    score = model.score(Xts, Yts)\n",
    "    print(f\"in {(te - ts):.2f}s, C-err is {100 - score * 100:.2f}%\")\n",
    "    t_fit, score = te - ts, 1 - score\n",
    "    return t_fit, score\n",
    "\n",
    "\n",
    "def run_pegasos(Xtr, Ytr, Xts, Yts, nb_iterations, lambda_reg):\n",
    "    print(\"Pegasos' performance : \")\n",
    "    C = 1 / (2 * Xtr.shape[0] * lambda_reg)\n",
    "    model = PegasosSVMClassifier(iterations=nb_iterations, lambda_reg=lambda_reg)\n",
    "    ts = time.time()\n",
    "    model.fit(Xtr, Ytr)\n",
    "    te = time.time()\n",
    "    score = model.score(Xts, Yts)\n",
    "    print(f\"in {(te - ts):.2f}s, C-err is {100 - score * 100:.2f}%\")\n",
    "    tr_score = model.score(Xtr, Ytr)\n",
    "    print(f\"also, train error is {100 - tr_score * 100:.2f}%\")\n",
    "    t_fit, score = te - ts, 1 - score\n",
    "    return t_fit, score"
   ]
  },
  {
   "cell_type": "markdown",
   "metadata": {},
   "source": [
    "#### Benchmarking"
   ]
  },
  {
   "cell_type": "markdown",
   "metadata": {},
   "source": [
    "##### a9a"
   ]
  },
  {
   "cell_type": "code",
   "execution_count": null,
   "metadata": {},
   "outputs": [],
   "source": [
    "Xtr, Ytr, Xts, Yts = prepare_data(\"a9a\", 1400, 1e-1, False)\n",
    "run_snacks(Xtr, Ytr, Xts, Yts, 45000, 1e-5, 1.0)\n",
    "run_sklearn(Xtr, Ytr, Xts, Yts, 1e-5)\n",
    "run_thundersvm(Xtr, Ytr, Xts, Yts, 1e-5)\n",
    "run_pegasos(Xtr, Ytr, Xts, Yts, 45000 * 3, 1e-5)"
   ]
  },
  {
   "cell_type": "markdown",
   "metadata": {},
   "source": [
    "Snacks' performance : \n",
    "in 0.43s, C-err is 15.33%\n",
    "SKLearn's performance : ConvergenceWarning: Liblinear failed to converge, increase the number of iterations.\n",
    "in 8.04s, C-err is 15.25%\n",
    "Pegasos' performance : \n",
    "in 1.63s, C-err is 16.72%"
   ]
  },
  {
   "cell_type": "markdown",
   "metadata": {},
   "source": [
    "##### SUSY"
   ]
  },
  {
   "cell_type": "code",
   "execution_count": null,
   "metadata": {},
   "outputs": [],
   "source": [
    "Xtr, Ytr, Xts, Yts = prepare_data(\"SUSY\", 1050, (1 / (2 * 4 * 4)), True)"
   ]
  },
  {
   "cell_type": "code",
   "execution_count": null,
   "metadata": {},
   "outputs": [],
   "source": [
    "run_snacks(Xtr, Ytr, Xts, Yts, 35000, 3e-6, 0.5)\n",
    "# run_sklearn(Xtr, Ytr, Xts, Yts, 1e-5)\n",
    "run_pegasos(Xtr, Ytr, Xts, Yts, 8000000 * 3, 3e-6)"
   ]
  },
  {
   "cell_type": "markdown",
   "metadata": {},
   "source": [
    "45s to load SUSY dataset (5e6 X 18)\n",
    "SKLearn's performance : \n",
    "in 45.40s, C-err is 21.21%"
   ]
  }
 ],
 "metadata": {
  "interpreter": {
   "hash": "d4506dcfe8a1cb1985505f6df0f9ad3eb1b024c0303e0c7385d172e3774bf3d5"
  },
  "kernelspec": {
   "display_name": "Python 3.10.0",
   "language": "python",
   "name": "python3"
  },
  "language_info": {
   "codemirror_mode": {
    "name": "ipython",
    "version": 3
   },
   "file_extension": ".py",
   "mimetype": "text/x-python",
   "name": "python",
   "nbconvert_exporter": "python",
   "pygments_lexer": "ipython3",
   "version": "3.10.0"
  },
  "orig_nbformat": 4
 },
 "nbformat": 4,
 "nbformat_minor": 2
}

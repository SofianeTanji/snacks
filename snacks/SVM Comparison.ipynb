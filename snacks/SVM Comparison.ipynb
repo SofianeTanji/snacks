{
 "cells": [
  {
   "cell_type": "markdown",
   "metadata": {},
   "source": [
    "# SVM Comparison\n",
    "This notebook runs a comparison between ThunderSVM, LibSVM, Pegasos, ~~liquidSVM~~ and Snacks on 3 binary classification datasets:\n",
    " - a9a\n",
    " - SUSY\n",
    " - HIGGS"
   ]
  },
  {
   "cell_type": "code",
   "execution_count": 7,
   "metadata": {},
   "outputs": [
    {
     "name": "stdout",
     "output_type": "stream",
     "text": [
      "The autoreload extension is already loaded. To reload it, use:\n",
      "  %reload_ext autoreload\n"
     ]
    }
   ],
   "source": [
    "%load_ext autoreload\n",
    "%autoreload 2"
   ]
  },
  {
   "cell_type": "code",
   "execution_count": 8,
   "metadata": {},
   "outputs": [],
   "source": [
    "import utils\n",
    "import time\n",
    "import os\n",
    "import sys\n",
    "os.environ[\"CUDA_VISIBLE_DEVICES\"] = \"0\"\n",
    "sys.path.append(\"../\")"
   ]
  },
  {
   "cell_type": "code",
   "execution_count": 9,
   "metadata": {},
   "outputs": [],
   "source": [
    "# Import all SVM solvers, data embedding functions and time method\n",
    "from svm import Snacks\n",
    "from pegasos import PegasosSVMClassifier\n",
    "from thundersvm import *\n",
    "from sklearn import svm"
   ]
  },
  {
   "cell_type": "code",
   "execution_count": 10,
   "metadata": {},
   "outputs": [],
   "source": [
    "def prepare_data(data, num_centers, gamma):\n",
    "    if data == \"a9a\":\n",
    "        Xtr, Xts, Ytr, Yts = utils.dataloader('../datasets/a9a', 0.7)\n",
    "    elif data == \"SUSY\":\n",
    "        Xtr, Xts, Ytr, Yts = utils.dataloader('../datasets/SUSY', 0.7)\n",
    "    elif data == \"HIGGS\":\n",
    "        Xtr, Xts, Ytr, Yts = utils.dataloader('../datasets/HIGGS', 0.7)\n",
    "    else:\n",
    "        print(f\"You asked for dataset {data} while Snacks only support a9a, SUSY and HIGGS\")\n",
    "    Xtr, Ytr, Xts, Yts = utils.kernel_embedding(Xtr, Ytr, Xts, Yts, False, num_centers, gamma = gamma)\n",
    "    return Xtr, Ytr, Xts, Yts\n"
   ]
  },
  {
   "cell_type": "code",
   "execution_count": 11,
   "metadata": {},
   "outputs": [],
   "source": [
    "def run_snacks(data, num_centers, gamma, nb_iterations, lambda_reg, stepsize):\n",
    "    Xtr, Ytr, Xts, Yts = prepare_data(data, num_centers, gamma)\n",
    "    model = Snacks(nb_iterations = nb_iterations, lambda_reg = lambda_reg, stepsize = stepsize)\n",
    "    ts = time.time()\n",
    "    model.fit(Xtr, Ytr)\n",
    "    te = time.time()\n",
    "    score = model.score(Xts, Yts)\n",
    "    print(f\"in {(te - ts):.2f}s, C-err is {100 - score * 100:.2f}%\")\n",
    "    t_fit, score = te - ts, 1 - score\n",
    "    return t_fit, score\n",
    "\n",
    "def run_sklearn(data, num_centers, gamma, lambda_reg):\n",
    "    Xtr, Ytr, Xts, Yts = prepare_data(data, num_centers, gamma)\n",
    "    C = 1 / (2 * Xtr.shape[0] * lambda_reg)\n",
    "    model = svm.LinearSVC(loss = \"hinge\", C = C)\n",
    "    ts = time.time()\n",
    "    model.fit(Xtr, Ytr)\n",
    "    te = time.time()\n",
    "    score = model.score(Xts, Yts)\n",
    "    print(f\"in {(te - ts):.2f}s, C-err is {100 - score * 100:.2f}%\")\n",
    "    t_fit, score = te - ts, 1 - score\n",
    "    return t_fit, score\n",
    "\n",
    "def run_thundersvm(data, num_centers, gamma, lambda_reg):\n",
    "    Xtr, Ytr, Xts, Yts = prepare_data(data, num_centers, gamma)\n",
    "    C = 1 / (2 * Xtr.shape[0] * lambda_reg)\n",
    "    model = SVC(kernel = \"linear\", C = C)\n",
    "    ts = time.time()\n",
    "    model.fit(Xtr, Ytr)\n",
    "    te = time.time()\n",
    "    score = model.score(Xts, Yts)\n",
    "    print(f\"in {(te - ts):.2f}s, C-err is {100 - score * 100:.2f}%\")\n",
    "    t_fit, score = te - ts, 1 - score\n",
    "    return t_fit, score\n",
    "\n",
    "def run_pegasos(data, num_centers, gamma, nb_iterations, lambda_reg):\n",
    "    Xtr, Ytr, Xts, Yts = prepare_data(data, num_centers, gamma)\n",
    "    C = 1 / (2 * Xtr.shape[0] * lambda_reg)\n",
    "    model = PegasosSVMClassifier(iterations = nb_iterations, lambda_reg = lambda_reg)\n",
    "    ts = time.time()\n",
    "    model.fit(Xtr, Ytr)\n",
    "    te = time.time()\n",
    "    score = model.score(Xts, Yts)\n",
    "    print(f\"in {(te - ts):.2f}s, C-err is {100 - score * 100:.2f}%\")\n",
    "    t_fit, score = te - ts, 1 - score\n",
    "    return t_fit, score"
   ]
  },
  {
   "cell_type": "code",
   "execution_count": 7,
   "metadata": {},
   "outputs": [
    {
     "name": "stdout",
     "output_type": "stream",
     "text": [
      "in 0.42s, C-err is 15.18%\n"
     ]
    },
    {
     "name": "stderr",
     "output_type": "stream",
     "text": [
      "/home/sofiane/anaconda3/envs/snacks/lib/python3.10/site-packages/sklearn/svm/_base.py:1206: ConvergenceWarning: Liblinear failed to converge, increase the number of iterations.\n",
      "  warnings.warn(\n"
     ]
    },
    {
     "name": "stdout",
     "output_type": "stream",
     "text": [
      "in 8.66s, C-err is 15.25%\n",
      "in 1.52s, C-err is 17.01%\n"
     ]
    }
   ],
   "source": [
    "run_snacks(\"a9a\", 1600, 1e-1, 45000, 1e-5, 1.)\n",
    "run_sklearn(\"a9a\", 1600, 1e-1, 1e-5)\n",
    "run_pegasos(\"a9a\", 1600, 1e-1, 45000 * 3, 1e-5)\n",
    "# run_thundersvm(\"a9a\", 1600, 1e-1, 1e-5)"
   ]
  },
  {
   "cell_type": "code",
   "execution_count": 12,
   "metadata": {},
   "outputs": [],
   "source": [
    "run_snacks(\"SUSY\", 800, 5e-2, 45000, 1e-6, 1.)"
   ]
  }
 ],
 "metadata": {
  "interpreter": {
   "hash": "d4506dcfe8a1cb1985505f6df0f9ad3eb1b024c0303e0c7385d172e3774bf3d5"
  },
  "kernelspec": {
   "display_name": "Python 3.10.0",
   "language": "python",
   "name": "python3"
  },
  "language_info": {
   "codemirror_mode": {
    "name": "ipython",
    "version": 3
   },
   "file_extension": ".py",
   "mimetype": "text/x-python",
   "name": "python",
   "nbconvert_exporter": "python",
   "pygments_lexer": "ipython3",
   "version": "3.10.0"
  },
  "orig_nbformat": 4
 },
 "nbformat": 4,
 "nbformat_minor": 2
}

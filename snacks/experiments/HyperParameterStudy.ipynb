{
 "cells": [
  {
   "cell_type": "code",
   "execution_count": 47,
   "metadata": {},
   "outputs": [],
   "source": [
    "import warnings\n",
    "warnings.simplefilter(action='ignore', category=FutureWarning)\n",
    "import sys\n",
    "sys.path.append(\"../\")\n",
    "import pandas as pd\n",
    "import hyanova as hy\n",
    "import matplotlib.pyplot as plt\n",
    "import seaborn as sns\n",
    "%matplotlib inline\n",
    "sns.set_style(\"whitegrid\")\n",
    "plt.rcParams['figure.figsize'] = (12,8)"
   ]
  },
  {
   "cell_type": "code",
   "execution_count": 41,
   "metadata": {},
   "outputs": [
    {
     "name": "stderr",
     "output_type": "stream",
     "text": [
      "100%|██████████| 7/7 [00:00<00:00, 29.63it/s]\n",
      "100%|██████████| 7/7 [00:00<00:00, 27.75it/s]\n",
      "100%|██████████| 7/7 [00:00<00:00, 25.97it/s]"
     ]
    },
    {
     "name": "stdout",
     "output_type": "stream",
     "text": [
      "                     u        v_u F_u(v_u/v_all)\n",
      "1             (Gamma,)  17.369205       0.916508\n",
      "2      (# Iterations,)    0.21471       0.011329\n",
      "0                 (M,)   0.180467       0.009523\n",
      "5                 (K,)   0.035964       0.001898\n",
      "3  (Initial Stepsize,)   0.017075       0.000901\n",
      "6     (Reg Parameter,)   0.007707       0.000407\n",
      "4         (Initial D,)   0.002176       0.000115\n"
     ]
    },
    {
     "name": "stderr",
     "output_type": "stream",
     "text": [
      "\n"
     ]
    }
   ],
   "source": [
    "def anova(dset):\n",
    "    df = pd.read_csv(f'../grid_searches/grid-search-{dset}.csv')\n",
    "    params = ['M', 'Gamma', '# Iterations', 'Initial Stepsize', 'Initial D', 'K', 'Reg Parameter']\n",
    "    result = df.drop(['Train time', 'Train time std', 'Train C-err', 'Train C-err std', 'Test C-err std'], axis = 1)\n",
    "    col_name = params[:]\n",
    "    col_name.append('Test C-err')\n",
    "    result = result.reindex(columns=col_name).copy()\n",
    "    importance = hy.analyze(result, max_iter = 7)\n",
    "    importance = importance.sort_values(\"F_u(v_u/v_all)\", ascending = False)\n",
    "    return importance\n",
    "anova_a9a = anova(\"a9a\")\n",
    "anova_ijcnn1 = anova(\"ijcnn1\")\n",
    "anova_mnist = anova('mnist')\n",
    "print(anova_mnist)"
   ]
  },
  {
   "cell_type": "code",
   "execution_count": 42,
   "metadata": {},
   "outputs": [],
   "source": [
    "M = [0., 0.003526, 0.009523]\n",
    "Gamma = [0.595149, 0.339247, 0.916508]\n",
    "InitialD = [0.141908, 0.000003, 0.000115]\n",
    "InitialEta = [0.031879, 0.025558, 0.000901]\n",
    "RegParameter = [0.000083, 0.238061, 0.000407]\n",
    "Niter = [0.013132, 0.080552, 0.011329]\n",
    "K = [0.002097, 0.00067, 0.001898]\n",
    "dico = {'M' : M, 'Gamma' : Gamma, 'Initial D' : InitialD, 'Initial Eta' : InitialEta, 'RegParameter' : RegParameter, 'Niter' : Niter, 'K' : K}\n",
    "dataframe = pd.DataFrame(dico)"
   ]
  },
  {
   "cell_type": "code",
   "execution_count": 48,
   "metadata": {},
   "outputs": [
    {
     "data": {
      "image/png": "[encoded data removed]",
      "text/plain": [
       "<Figure size 864x576 with 1 Axes>"
      ]
     },
     "metadata": {},
     "output_type": "display_data"
    }
   ],
   "source": [
    "sns.boxplot(data = dataframe)\n",
    "plt.savefig(\"fig\")"
   ]
  }
 ],
 "metadata": {
  "interpreter": {
   "hash": "d4506dcfe8a1cb1985505f6df0f9ad3eb1b024c0303e0c7385d172e3774bf3d5"
  },
  "kernelspec": {
   "display_name": "Python 3.10.0",
   "language": "python",
   "name": "python3"
  },
  "language_info": {
   "codemirror_mode": {
    "name": "ipython",
    "version": 3
   },
   "file_extension": ".py",
   "mimetype": "text/x-python",
   "name": "python",
   "nbconvert_exporter": "python",
   "pygments_lexer": "ipython3",
   "version": "3.10.0"
  },
  "orig_nbformat": 4
 },
 "nbformat": 4,
 "nbformat_minor": 2
}

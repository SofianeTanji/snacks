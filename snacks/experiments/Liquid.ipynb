{
 "cells": [
  {
   "cell_type": "code",
   "execution_count": 1,
   "metadata": {},
   "outputs": [],
   "source": [
    "import sys\n",
    "sys.path.append(\"../\")\n",
    "sys.path.append(\"../../\")\n",
    "from constants import BEST_VALUES, N_SAMPLES\n",
    "from svm import Snacks\n",
    "from time import perf_counter\n",
    "import utils\n",
    "from thundersvm import SVC\n",
    "from liquidSVM import mcSVM\n",
    "from collections import Counter"
   ]
  },
  {
   "cell_type": "code",
   "execution_count": 5,
   "metadata": {},
   "outputs": [
    {
     "name": "stdout",
     "output_type": "stream",
     "text": [
      "Dataset: ijcnn1\n",
      "Time for fit : 0.95s\n",
      "Time for fit : 109.63s\n"
     ]
    },
    {
     "data": {
      "text/plain": [
       "(0.016978395679135838, 0.9814962992598519)"
      ]
     },
     "execution_count": 5,
     "metadata": {},
     "output_type": "execute_result"
    }
   ],
   "source": [
    "def run(dset):\n",
    "    m, g, lmbd = BEST_VALUES[dset][0], BEST_VALUES[dset][1], BEST_VALUES[dset][-2]\n",
    "    n = N_SAMPLES[dset]\n",
    "    X, y, oXtr, oXts, oYtr, oYts = utils.dataloader(dset)\n",
    "    kts = perf_counter()\n",
    "    Xtr, Ytr, Xts, Yts = utils.kernel_embedding(oXtr, oYtr, oXts, oYts, num_centers = m, gamma = g)\n",
    "    kte = perf_counter()\n",
    "    snacks = Snacks(lmbd)\n",
    "    ts = perf_counter()\n",
    "    snacks.fit(Xtr, Ytr)\n",
    "    te = perf_counter()\n",
    "    print(f\"Time for fit : {(kte - kts + te - ts):.2f}s\")\n",
    "\n",
    "    err_snacks = snacks.score(Xtr, Ytr)\n",
    "    \n",
    "    model = SVC(kernel = \"precomputed\", C = 1 / (2 * n * lmbd))\n",
    "    ts = perf_counter()\n",
    "    model.fit(Xtr, Ytr)\n",
    "    te = perf_counter()\n",
    "    print(f\"Time for fit : {(kte - kts + te - ts):.2f}s\")\n",
    "    err_thunder = model.score(Xtr, Ytr)\n",
    "\n",
    "    return err_thunder, err_snacks\n",
    "run(\"ijcnn1\")"
   ]
  }
 ],
 "metadata": {
  "interpreter": {
   "hash": "d4506dcfe8a1cb1985505f6df0f9ad3eb1b024c0303e0c7385d172e3774bf3d5"
  },
  "kernelspec": {
   "display_name": "Python 3.10.0",
   "language": "python",
   "name": "python3"
  },
  "language_info": {
   "codemirror_mode": {
    "name": "ipython",
    "version": 3
   },
   "file_extension": ".py",
   "mimetype": "text/x-python",
   "name": "python",
   "nbconvert_exporter": "python",
   "pygments_lexer": "ipython3",
   "version": "3.10.0"
  },
  "orig_nbformat": 4
 },
 "nbformat": 4,
 "nbformat_minor": 2
}
